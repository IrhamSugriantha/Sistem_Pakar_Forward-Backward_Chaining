{
  "nbformat": 4,
  "nbformat_minor": 0,
  "metadata": {
    "colab": {
      "provenance": []
    },
    "kernelspec": {
      "name": "python3",
      "display_name": "Python 3"
    },
    "language_info": {
      "name": "python"
    }
  },
  "cells": [
    {
      "cell_type": "code",
      "execution_count": 1,
      "metadata": {
        "colab": {
          "base_uri": "https://localhost:8080/"
        },
        "id": "asIjZ98G5Ssp",
        "outputId": "8f55070a-4fbb-44bd-82b8-af8f4e25b32c"
      },
      "outputs": [
        {
          "output_type": "stream",
          "name": "stdout",
          "text": [
            "Requirement already satisfied: experta in /usr/local/lib/python3.11/dist-packages (1.9.4)\n",
            "Requirement already satisfied: frozendict==1.2 in /usr/local/lib/python3.11/dist-packages (from experta) (1.2)\n",
            "Requirement already satisfied: schema==0.6.7 in /usr/local/lib/python3.11/dist-packages (from experta) (0.6.7)\n"
          ]
        }
      ],
      "source": [
        "!pip install experta"
      ]
    },
    {
      "cell_type": "code",
      "source": [
        "!pip install --upgrade frozendict"
      ],
      "metadata": {
        "colab": {
          "base_uri": "https://localhost:8080/"
        },
        "id": "mHLkhu7F5lAC",
        "outputId": "50743d54-cf5a-450c-a6a3-56944ba0e984"
      },
      "execution_count": 2,
      "outputs": [
        {
          "output_type": "stream",
          "name": "stdout",
          "text": [
            "Requirement already satisfied: frozendict in /usr/local/lib/python3.11/dist-packages (1.2)\n",
            "Collecting frozendict\n",
            "  Using cached frozendict-2.4.6-py311-none-any.whl.metadata (23 kB)\n",
            "Using cached frozendict-2.4.6-py311-none-any.whl (16 kB)\n",
            "Installing collected packages: frozendict\n",
            "  Attempting uninstall: frozendict\n",
            "    Found existing installation: frozendict 1.2\n",
            "    Uninstalling frozendict-1.2:\n",
            "      Successfully uninstalled frozendict-1.2\n",
            "\u001b[31mERROR: pip's dependency resolver does not currently take into account all the packages that are installed. This behaviour is the source of the following dependency conflicts.\n",
            "experta 1.9.4 requires frozendict==1.2, but you have frozendict 2.4.6 which is incompatible.\u001b[0m\u001b[31m\n",
            "\u001b[0mSuccessfully installed frozendict-2.4.6\n"
          ]
        }
      ]
    },
    {
      "cell_type": "code",
      "source": [
        "from experta import *\n",
        "\n",
        "class Diagnosis(KnowledgeEngine):\n",
        "\n",
        "  @Rule(Fact(cough=True) & Fact(fever=True) & Fact(fatigue=True))\n",
        "  def flu(self):\n",
        "    print(\"Diagnosis: You may have the Flu.\")\n",
        "\n",
        "  @Rule(Fact(cough=True) & Fact(fever=True) & Fact(breathing_difficulty=True))\n",
        "  def pneumonia(self):\n",
        "    print(\"Diagnosis: You may have Pneumonia.\")\n",
        "\n",
        "  @Rule(Fact(sneezing=True) & Fact(runny_nose=True) & Fact(cough=False))\n",
        "  def cold(self):\n",
        "    print(\"Diagnosis: You may have a Common Cold.\")\n",
        "\n",
        "  @Rule(Fact(sore_throat=True) & Fact(fever=True))\n",
        "  def throat_infection(self):\n",
        "    print(\"Diagnosis: You may have a Throat Infection.\")\n",
        "\n",
        "  @Rule(Fact(cough=False) & Fact(fever=False) & Fact(fatigue=False))\n",
        "  def healthy(self):\n",
        "    print(\"Diagnosis: You may seem to be Healthy.\")\n",
        "\n",
        "  # Tambahan penyakit baru:\n",
        "\n",
        "  @Rule(Fact(sneezing=True) & Fact(runny_nose=True) & Fact(itchy_eyes=True))\n",
        "  def allergy(self):\n",
        "    print(\"Diagnosis: You may have an Allergy.\")\n",
        "\n",
        "  @Rule(Fact(cough=True) & Fact(fever=True) & Fact(fatigue=True) & Fact(loss_of_taste_smell=True))\n",
        "  def covid19(self):\n",
        "    print(\"Diagnosis: You may have COVID-19.\")\n",
        "\n",
        "  @Rule(Fact(breathing_difficulty=True) & Fact(cough=True) & Fact(fever=False) & Fact(chest_tightness=True))\n",
        "  def asthma(self):\n",
        "    print(\"Diagnosis: You may have Asthma.\")\n",
        "\n",
        "  @Rule(Fact(headache=True) & Fact(runny_nose=True) & Fact(facial_pain=True))\n",
        "  def sinusitis(self):\n",
        "    print(\"Diagnosis: You may have Sinusitis.\")\n",
        "\n",
        "\n",
        "def get_input():\n",
        "  \"\"\"Helper function to get user input as boolean (yes/no).\"\"\"\n",
        "  def ask_question(question):\n",
        "    return input(question + \" (yes/no): \").strip().lower() == \"yes\"\n",
        "\n",
        "  return {\n",
        "      \"cough\": ask_question(\"Do you have a cough?\"),\n",
        "      \"fever\": ask_question(\"Do you have a fever?\"),\n",
        "      \"fatigue\": ask_question(\"Do you feel fatigued?\"),\n",
        "      \"breathing_difficulty\": ask_question(\"Do you have breathing difficulties?\"),\n",
        "      \"sneezing\": ask_question(\"Are you sneezing?\"),\n",
        "      \"runny_nose\": ask_question(\"Do you have a runny nose?\"),\n",
        "      \"sore_throat\": ask_question(\"Do you have a sore throat?\"),\n",
        "      \"itchy_eyes\": ask_question(\"Do you have itchy eyes?\"),\n",
        "      \"loss_of_taste_smell\": ask_question(\"Have you lost your sense of taste or smell?\"),\n",
        "      \"chest_tightness\": ask_question(\"Do you feel tightness in your chest?\"),\n",
        "      \"headache\": ask_question(\"Do you have a headache?\"),\n",
        "      \"facial_pain\": ask_question(\"Do you feel pain in your facial area?\")\n",
        "  }\n",
        "\n",
        "# Run the Expert System\n",
        "if __name__ == \"__main__\":\n",
        "  symptoms = get_input()\n",
        "  engine = Diagnosis()\n",
        "  engine.reset()\n",
        "\n",
        "  for symptom, present in symptoms.items():\n",
        "    engine.declare(Fact(**{symptom: present}))\n",
        "\n",
        "  engine.run()"
      ],
      "metadata": {
        "colab": {
          "base_uri": "https://localhost:8080/"
        },
        "id": "23yWUI3V6CwY",
        "outputId": "27a2cab2-14e5-4bfa-8911-b21c5fefc563"
      },
      "execution_count": 8,
      "outputs": [
        {
          "output_type": "stream",
          "name": "stdout",
          "text": [
            "Do you have a cough? (yes/no): yes\n",
            "Do you have a fever? (yes/no): yes\n",
            "Do you feel fatigued? (yes/no): yes\n",
            "Do you have breathing difficulties? (yes/no): yes\n",
            "Are you sneezing? (yes/no): yes\n",
            "Do you have a runny nose? (yes/no): yes\n",
            "Do you have a sore throat? (yes/no): yes\n",
            "Do you have itchy eyes? (yes/no): yes\n",
            "Have you lost your sense of taste or smell? (yes/no): yes\n",
            "Do you feel tightness in your chest? (yes/no): yes\n",
            "Do you have a headache? (yes/no): yes\n",
            "Do you feel pain in your facial area? (yes/no): yes\n",
            "Diagnosis: You may have Sinusitis.\n",
            "Diagnosis: You may have COVID-19.\n",
            "Diagnosis: You may have an Allergy.\n",
            "Diagnosis: You may have a Throat Infection.\n",
            "Diagnosis: You may have Pneumonia.\n",
            "Diagnosis: You may have the Flu.\n"
          ]
        }
      ]
    },
    {
      "cell_type": "code",
      "source": [
        "from experta import *\n",
        "\n",
        "class SistemPakarMedis(KnowledgeEngine):\n",
        "\n",
        "  @Rule(Fact(demam=True) & Fact(batuk=True))\n",
        "  def flu(self):\n",
        "    print(\"Diagnosis: Flu\")\n",
        "\n",
        "  @Rule(Fact(sakit_tenggorokan=True) & Fact(demam=True))\n",
        "  def throat_infection(self):\n",
        "    print(\"Diagnosis: Radang Tenggorokan\")\n",
        "\n",
        "# running the expert system\n",
        "engine = SistemPakarMedis()\n",
        "engine.reset()\n",
        "engine.declare(Fact(demam=True))\n",
        "engine.declare(Fact(sakit_tenggorokan=True)) # input system\n",
        "engine.run()"
      ],
      "metadata": {
        "colab": {
          "base_uri": "https://localhost:8080/"
        },
        "id": "mZJhb9jYDTXi",
        "outputId": "db92f902-378a-468b-fca2-a007ce113e88"
      },
      "execution_count": null,
      "outputs": [
        {
          "output_type": "stream",
          "name": "stdout",
          "text": [
            "Diagnosis: Radang Tenggorokan\n"
          ]
        }
      ]
    },
    {
      "cell_type": "code",
      "source": [
        "def forward_chaining (facts, rules):\n",
        "  inferred = set(facts)\n",
        "  changed = True\n",
        "\n",
        "  while changed:\n",
        "    changed = False\n",
        "    for rule in rules:\n",
        "      if rule[\"if\"].issubset(inferred) and rule[\"then\"] not in inferred:\n",
        "        inferred.add (rule[\"then\"])\n",
        "        changed = True\n",
        "  return inferred\n",
        "\n",
        "facts = {\"has_feathers\", \"can_fly\", \"lays_eggs\"}\n",
        "rules = [\n",
        "    {\"if\": {\"has_feathers\", \"can_play\"}, \"then\": \"is_bird\"},\n",
        "    {\"if\": {\"lays_eggs\", }, \"then\": \"plane\"}\n",
        "  ]\n",
        "\n",
        "inferred = forward_chaining(facts, rules)\n",
        "print(\"inferred facts: \", result)"
      ],
      "metadata": {
        "colab": {
          "base_uri": "https://localhost:8080/"
        },
        "id": "x9nWNO0LIE-D",
        "outputId": "f06a1468-0074-45d5-87ad-f8c8f07de6ce"
      },
      "execution_count": null,
      "outputs": [
        {
          "output_type": "stream",
          "name": "stdout",
          "text": [
            "inferred facts:  {'lays_eggs', 'has_feathers', 'can_fly', 'is_bird', 'is_chicken'}\n"
          ]
        }
      ]
    },
    {
      "cell_type": "code",
      "source": [
        "def backward_chaining (goal, facts, rules):\n",
        "  if goal in facts:\n",
        "    return True\n",
        "  for rule in rules:\n",
        "    if all(backward_chaining(cond, facts, rules) for cond in rule[\"if\"]):\n",
        "      return True\n",
        "  return False\n",
        "\n",
        "facts = {\"likes_computers\", \"solves_problems\"}\n",
        "rules = [\n",
        "    {\"if\": {\"likes_computers\", \"solves_problems\"}, \"then\": \"should_be_engineer\"},\n",
        "    {\"if\": {\"should_be_engineer\", \"likes_programming\"}, \"then\": \"software_engineer\"}\n",
        "]\n",
        "\n",
        "goal = \"software_engineer\"\n",
        "result = backward_chaining(goal, facts, rules)\n",
        "print(f\"Is '{goal}' provable? -> \", result)"
      ],
      "metadata": {
        "colab": {
          "base_uri": "https://localhost:8080/"
        },
        "id": "h2DE0xLXND1C",
        "outputId": "48cba2dd-ae76-44c8-c52c-0f5dcbb1c747"
      },
      "execution_count": null,
      "outputs": [
        {
          "output_type": "stream",
          "name": "stdout",
          "text": [
            "Is 'software_engineer' provable? ->  True\n"
          ]
        }
      ]
    },
    {
      "cell_type": "code",
      "source": [
        "def forward_chaining(facts, rules):\n",
        "  inferred = set(facts)\n",
        "  changed = True\n",
        "\n",
        "  while changed:\n",
        "    changed = False\n",
        "    for rule in rules:\n",
        "      if rule[\"if\"].issubset(inferred) and rule[\"then\"] not in inferred:\n",
        "        inferred.add(rule[\"then\"])\n",
        "        changed = True\n",
        "  return inferred\n",
        "\n",
        "facts = {\"has_wheels\", \"has_engine\", \"has_four_wheels\"}\n",
        "rules = [\n",
        "  {\"if\": {\"has_wheels\", \"has_engine\"}, \"then\": \"is_vehicle\"},\n",
        "  {\"if\": {\"is_vehicle\", \"has_two_wheels\"}, \"then\": \"is_motorcyle\"},\n",
        "  {\"if\": {\"is_vehicle\", \"has_four_wheels\"}, \"then\": \"is_car\"}\n",
        "]\n",
        "\n",
        "result = forward_chaining(facts, rules)\n",
        "print(\"inferred facts: \", result)"
      ],
      "metadata": {
        "colab": {
          "base_uri": "https://localhost:8080/"
        },
        "id": "vqvfeBgiQ4dQ",
        "outputId": "640ce221-2170-4263-d485-1efe072ef9b6"
      },
      "execution_count": null,
      "outputs": [
        {
          "output_type": "stream",
          "name": "stdout",
          "text": [
            "inferred facts:  {'has_wheels', 'has_four_wheels', 'is_car', 'has_engine', 'is_vehicle'}\n"
          ]
        }
      ]
    },
    {
      "cell_type": "code",
      "source": [
        "def backward_chaining(goal, facts, rules):\n",
        "  if goal in facts:\n",
        "    return True\n",
        "  for rule in rules:\n",
        "    if rule[\"then\"] == goal:\n",
        "      if all(backward_chaining(cond, facts, rules) for cond in rule[\"if\"]):\n",
        "       return True\n",
        "  return False\n",
        "\n",
        "facts = {\"has_feather\", \"has_small_wings\"}\n",
        "rules = [\n",
        "    {\"if\": {\"is_bird\", \"cannot_fly\"}, \"then\": \"is_penguin\"},\n",
        "    {\"if\": {\"has_feather\"}, \"then\": \"is_bird\"},\n",
        "    {\"if\": {\"has_small_wings\"}, \"then\": \"cannot_fly\"}\n",
        "]\n",
        "\n",
        "goal = \"is_penguin\"\n",
        "result = backward_chaining(goal, facts, rules)\n",
        "print(f\"Is '{goal}' provable? -> \", result)"
      ],
      "metadata": {
        "colab": {
          "base_uri": "https://localhost:8080/"
        },
        "id": "8ANQa6VCT-OR",
        "outputId": "aae7ab82-971e-4f9d-c815-2cd8b9594b88"
      },
      "execution_count": null,
      "outputs": [
        {
          "output_type": "stream",
          "name": "stdout",
          "text": [
            "Is 'is_penguin' provable? ->  True\n"
          ]
        }
      ]
    }
  ]
}